{
 "cells": [
  {
   "cell_type": "code",
   "execution_count": 17,
   "id": "fcd28437-7511-48a4-b27b-293189010967",
   "metadata": {},
   "outputs": [],
   "source": [
    "\n",
    "import pandas as pd\n",
    "\n",
    "data = pd.read_csv('./extracted_columns.csv')\n",
    "\n",
    "column_name = 'category'\n",
    "desired_values = ['Entertainment', 'Entertainment', 'Crime-Thriller','Romance']\n",
    "\n",
    "filtered_data = data[data[column_name].isin(desired_values)]\n",
    "\n",
    "# filtered_data = filtered_data.iloc[:, 1:]  # This selects all rows and all columns starting from the second column\n",
    "\n",
    "# Convert the DataFrame to JSON\n",
    "json_data = filtered_data.to_json(orient='records')\n",
    "\n",
    "# # Save the JSON data to a file\n",
    "with open('books.json', 'w') as file:\n",
    "    file.write(json_data)\n",
    "\n",
    "\n"
   ]
  },
  {
   "cell_type": "code",
   "execution_count": null,
   "id": "eee9da8b-a521-42a9-a2a2-37d9774512c3",
   "metadata": {},
   "outputs": [],
   "source": []
  }
 ],
 "metadata": {
  "kernelspec": {
   "display_name": "Python 3",
   "language": "python",
   "name": "python3"
  },
  "language_info": {
   "codemirror_mode": {
    "name": "ipython",
    "version": 3
   },
   "file_extension": ".py",
   "mimetype": "text/x-python",
   "name": "python",
   "nbconvert_exporter": "python",
   "pygments_lexer": "ipython3",
   "version": "3.9.12"
  }
 },
 "nbformat": 4,
 "nbformat_minor": 5
}
